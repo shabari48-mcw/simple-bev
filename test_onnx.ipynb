{
 "cells": [
  {
   "cell_type": "code",
   "execution_count": 2,
   "metadata": {},
   "outputs": [
    {
     "name": "stdout",
     "output_type": "stream",
     "text": [
      "PyTorch output shape: torch.Size([1, 3, 224, 224])\n"
     ]
    }
   ],
   "source": [
    "import torch\n",
    "import torch.nn as nn\n",
    "\n",
    "# Simple model with torch.flip\n",
    "class FlipModel(nn.Module):\n",
    "    def __init__(self):\n",
    "        super(FlipModel, self).__init__()\n",
    "\n",
    "    def forward(self, x):\n",
    "        # Flip along the width dimension\n",
    "        x_flipped = torch.flip(x, [3])  # Flip along the last dimension (Width)\n",
    "        return x_flipped\n",
    "\n",
    "# Create model and dummy input\n",
    "model = FlipModel()\n",
    "dummy_input = torch.randn(1, 3, 224, 224)  # (Batch, Channels, Height, Width)\n",
    "\n",
    "# Perform inference in PyTorch\n",
    "output_torch = model(dummy_input)\n",
    "print(\"PyTorch output shape:\", output_torch.shape)\n"
   ]
  },
  {
   "cell_type": "code",
   "execution_count": 5,
   "metadata": {},
   "outputs": [
    {
     "name": "stdout",
     "output_type": "stream",
     "text": [
      "Model exported to flip_model.onnx\n"
     ]
    }
   ],
   "source": [
    "import onnx\n",
    "\n",
    "# Export the model\n",
    "onnx_filename = \"flip_model.onnx\"\n",
    "\n",
    "# Exporting the model\n",
    "torch.onnx.export(\n",
    "    model,\n",
    "    dummy_input,\n",
    "    onnx_filename,\n",
    "    export_params=True,                # store the trained parameter weights\n",
    "    opset_version=16,                  # ONNX opset version\n",
    "    input_names=[\"input\"],             # Input names\n",
    "    output_names=[\"output\"],           # Output names\n",
    "    dynamic_axes={\n",
    "        \"input\": {0: \"batch_size\"},    # dynamic batch size\n",
    "        \"output\": {0: \"batch_size\"}\n",
    "    }\n",
    ")\n",
    "\n",
    "print(f\"Model exported to {onnx_filename}\")\n"
   ]
  },
  {
   "cell_type": "code",
   "execution_count": 8,
   "metadata": {},
   "outputs": [
    {
     "name": "stdout",
     "output_type": "stream",
     "text": [
      "ONNX output shape: (1, 3, 224, 224)\n",
      "\n",
      "Difference between PyTorch and ONNX outputs: 0.0\n",
      "Inference completed successfully!\n"
     ]
    }
   ],
   "source": [
    "import onnxruntime as ort\n",
    "import numpy as np\n",
    "\n",
    "# Load the exported ONNX model\n",
    "session = ort.InferenceSession(onnx_filename)\n",
    "\n",
    "# Prepare the input tensor for ONNX Runtime\n",
    "onnx_input = dummy_input.detach().numpy()\n",
    "onnx_input_dict = {\"input\": onnx_input}\n",
    "\n",
    "# Run inference\n",
    "onnx_output = session.run(None, onnx_input_dict)[0]\n",
    "\n",
    "# Verify results\n",
    "print(\"ONNX output shape:\", onnx_output.shape)\n",
    "\n",
    "# Compare ONNX and PyTorch outputs\n",
    "torch_output_np = output_torch.detach().numpy()\n",
    "diff = np.abs(onnx_output - torch_output_np)\n",
    "\n",
    "print(\"\\nDifference between PyTorch and ONNX outputs:\", np.max(diff))\n",
    "print(\"Inference completed successfully!\")\n"
   ]
  }
 ],
 "metadata": {
  "kernelspec": {
   "display_name": "bev",
   "language": "python",
   "name": "python3"
  },
  "language_info": {
   "codemirror_mode": {
    "name": "ipython",
    "version": 3
   },
   "file_extension": ".py",
   "mimetype": "text/x-python",
   "name": "python",
   "nbconvert_exporter": "python",
   "pygments_lexer": "ipython3",
   "version": "3.10.16"
  }
 },
 "nbformat": 4,
 "nbformat_minor": 2
}
